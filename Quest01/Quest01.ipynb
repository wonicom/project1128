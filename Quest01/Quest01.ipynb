{
 "cells": [
  {
   "cell_type": "code",
   "execution_count": 20,
   "id": "475e8064",
   "metadata": {},
   "outputs": [],
   "source": [
    "import numpy as np\n",
    "from sklearn.datasets import load_diabetes\n",
    "from sklearn.model_selection import train_test_split\n",
    "import pandas as pd\n",
    "import matplotlib.pyplot as plt"
   ]
  },
  {
   "cell_type": "code",
   "execution_count": 2,
   "id": "ac47a22e",
   "metadata": {},
   "outputs": [],
   "source": [
    "diabetes = load_diabetes()"
   ]
  },
  {
   "cell_type": "code",
   "execution_count": 3,
   "id": "8bc29c0c",
   "metadata": {},
   "outputs": [],
   "source": [
    "df_X, df_y = diabetes[\"data\"], diabetes['target']"
   ]
  },
  {
   "cell_type": "code",
   "execution_count": 4,
   "id": "32787eb0",
   "metadata": {},
   "outputs": [],
   "source": [
    "import numpy as np\n",
    "df_X = np.array(df_X)\n",
    "df_y = np.array(df_y)"
   ]
  },
  {
   "cell_type": "code",
   "execution_count": 5,
   "id": "2056ab09",
   "metadata": {},
   "outputs": [],
   "source": [
    "X_train, X_test, y_train, y_test= train_test_split(df_X,df_y, test_size = 0.2, random_state = 42)"
   ]
  },
  {
   "cell_type": "code",
   "execution_count": 6,
   "id": "13559c34",
   "metadata": {},
   "outputs": [],
   "source": [
    "W = np.random.rand(10)\n",
    "b = np.random.rand()"
   ]
  },
  {
   "cell_type": "code",
   "execution_count": 14,
   "id": "dec3f3cd",
   "metadata": {},
   "outputs": [],
   "source": [
    "def model(X, W, b):\n",
    "    predictions = 0\n",
    "    for i in range(10):\n",
    "        predictions += X[:, i] * W[i]\n",
    "        predictions += b\n",
    "    return predictions"
   ]
  },
  {
   "cell_type": "code",
   "execution_count": 8,
   "id": "7d59a3dc",
   "metadata": {},
   "outputs": [],
   "source": [
    "def MSE(a, b):\n",
    "    mse = ((a - b) ** 2).mean() # 두 값의 차이의 제곱의 평균\n",
    "    return mse"
   ]
  },
  {
   "cell_type": "code",
   "execution_count": 9,
   "id": "18686a03",
   "metadata": {},
   "outputs": [],
   "source": [
    "def loss(X, W, b, y):\n",
    "    predictions = model(X, W, b)\n",
    "    L = MSE(predictions, y)\n",
    "    return L"
   ]
  },
  {
   "cell_type": "code",
   "execution_count": 10,
   "id": "8ee74c88",
   "metadata": {},
   "outputs": [],
   "source": [
    "def gradient(X, W, b, y):\n",
    "    # N은 데이터 포인트의 개수\n",
    "    N = len(y)\n",
    "\n",
    "    # y_pred 준비\n",
    "    y_pred = model(X, W, b)\n",
    "\n",
    "    # 공식에 맞게 gradient 계산\n",
    "    dW = 1/N * 2 * X.T.dot(y_pred - y)\n",
    "\n",
    "    # b의 gradient 계산\n",
    "    db = 2 * (y_pred - y).mean()\n",
    "    return dW, db"
   ]
  },
  {
   "cell_type": "code",
   "execution_count": 11,
   "id": "c7d0d01e",
   "metadata": {},
   "outputs": [],
   "source": [
    "LEARNING_RATE = 0.0001"
   ]
  },
  {
   "cell_type": "code",
   "execution_count": 16,
   "id": "65b1780f",
   "metadata": {},
   "outputs": [
    {
     "name": "stdout",
     "output_type": "stream",
     "text": [
      "Iteration 10 : Loss 28117.3131\n",
      "Iteration 20 : Loss 27251.7623\n",
      "Iteration 30 : Loss 26420.1805\n",
      "Iteration 40 : Loss 25621.2344\n",
      "Iteration 50 : Loss 24853.6430\n",
      "Iteration 60 : Loss 24116.1758\n",
      "Iteration 70 : Loss 23407.6504\n",
      "Iteration 80 : Loss 22726.9309\n",
      "Iteration 90 : Loss 22072.9258\n",
      "Iteration 100 : Loss 21444.5868\n",
      "Iteration 110 : Loss 20840.9063\n",
      "Iteration 120 : Loss 20260.9167\n",
      "Iteration 130 : Loss 19703.6880\n",
      "Iteration 140 : Loss 19168.3268\n",
      "Iteration 150 : Loss 18653.9750\n",
      "Iteration 160 : Loss 18159.8080\n",
      "Iteration 170 : Loss 17685.0334\n",
      "Iteration 180 : Loss 17228.8902\n",
      "Iteration 190 : Loss 16790.6470\n",
      "Iteration 200 : Loss 16369.6014\n",
      "Iteration 210 : Loss 15965.0783\n",
      "Iteration 220 : Loss 15576.4293\n",
      "Iteration 230 : Loss 15203.0312\n",
      "Iteration 240 : Loss 14844.2856\n",
      "Iteration 250 : Loss 14499.6173\n",
      "Iteration 260 : Loss 14168.4738\n",
      "Iteration 270 : Loss 13850.3242\n",
      "Iteration 280 : Loss 13544.6586\n",
      "Iteration 290 : Loss 13250.9870\n",
      "Iteration 300 : Loss 12968.8386\n",
      "Iteration 310 : Loss 12697.7612\n",
      "Iteration 320 : Loss 12437.3202\n",
      "Iteration 330 : Loss 12187.0981\n",
      "Iteration 340 : Loss 11946.6939\n",
      "Iteration 350 : Loss 11715.7222\n",
      "Iteration 360 : Loss 11493.8129\n",
      "Iteration 370 : Loss 11280.6101\n",
      "Iteration 380 : Loss 11075.7723\n",
      "Iteration 390 : Loss 10878.9710\n",
      "Iteration 400 : Loss 10689.8909\n",
      "Iteration 410 : Loss 10508.2289\n",
      "Iteration 420 : Loss 10333.6938\n",
      "Iteration 430 : Loss 10166.0060\n",
      "Iteration 440 : Loss 10004.8966\n",
      "Iteration 450 : Loss 9850.1075\n",
      "Iteration 460 : Loss 9701.3907\n",
      "Iteration 470 : Loss 9558.5077\n",
      "Iteration 480 : Loss 9421.2296\n",
      "Iteration 490 : Loss 9289.3364\n",
      "Iteration 500 : Loss 9162.6168\n",
      "Iteration 510 : Loss 9040.8678\n",
      "Iteration 520 : Loss 8923.8941\n",
      "Iteration 530 : Loss 8811.5084\n",
      "Iteration 540 : Loss 8703.5307\n",
      "Iteration 550 : Loss 8599.7878\n",
      "Iteration 560 : Loss 8500.1137\n",
      "Iteration 570 : Loss 8404.3485\n",
      "Iteration 580 : Loss 8312.3390\n",
      "Iteration 590 : Loss 8223.9376\n",
      "Iteration 600 : Loss 8139.0027\n",
      "Iteration 610 : Loss 8057.3984\n",
      "Iteration 620 : Loss 7978.9938\n",
      "Iteration 630 : Loss 7903.6634\n",
      "Iteration 640 : Loss 7831.2866\n",
      "Iteration 650 : Loss 7761.7474\n",
      "Iteration 660 : Loss 7694.9344\n",
      "Iteration 670 : Loss 7630.7406\n",
      "Iteration 680 : Loss 7569.0632\n",
      "Iteration 690 : Loss 7509.8036\n",
      "Iteration 700 : Loss 7452.8667\n",
      "Iteration 710 : Loss 7398.1614\n",
      "Iteration 720 : Loss 7345.6001\n",
      "Iteration 730 : Loss 7295.0987\n",
      "Iteration 740 : Loss 7246.5763\n",
      "Iteration 750 : Loss 7199.9552\n",
      "Iteration 760 : Loss 7155.1609\n",
      "Iteration 770 : Loss 7112.1215\n",
      "Iteration 780 : Loss 7070.7684\n",
      "Iteration 790 : Loss 7031.0351\n",
      "Iteration 800 : Loss 6992.8583\n",
      "Iteration 810 : Loss 6956.1767\n",
      "Iteration 820 : Loss 6920.9318\n",
      "Iteration 830 : Loss 6887.0670\n",
      "Iteration 840 : Loss 6854.5283\n",
      "Iteration 850 : Loss 6823.2636\n",
      "Iteration 860 : Loss 6793.2229\n",
      "Iteration 870 : Loss 6764.3582\n",
      "Iteration 880 : Loss 6736.6232\n",
      "Iteration 890 : Loss 6709.9738\n",
      "Iteration 900 : Loss 6684.3671\n",
      "Iteration 910 : Loss 6659.7624\n",
      "Iteration 920 : Loss 6636.1203\n",
      "Iteration 930 : Loss 6613.4030\n",
      "Iteration 940 : Loss 6591.5742\n",
      "Iteration 950 : Loss 6570.5991\n",
      "Iteration 960 : Loss 6550.4441\n",
      "Iteration 970 : Loss 6531.0770\n",
      "Iteration 980 : Loss 6512.4670\n",
      "Iteration 990 : Loss 6494.5843\n",
      "Iteration 1000 : Loss 6477.4003\n"
     ]
    }
   ],
   "source": [
    "losses = []\n",
    "for i in range(1, 1001):\n",
    "    dW, db = gradient(X_train, W, b, y_train)\n",
    "    W -= LEARNING_RATE * dW\n",
    "    b -= LEARNING_RATE * db\n",
    "    L = loss(X_train, W, b, y_train)\n",
    "    losses.append(L)\n",
    "    if i % 10 == 0:\n",
    "        print('Iteration %d : Loss %0.4f' % (i, L))"
   ]
  },
  {
   "cell_type": "code",
   "execution_count": 18,
   "id": "ad2e3f40",
   "metadata": {
    "scrolled": true
   },
   "outputs": [
    {
     "data": {
      "text/plain": [
       "5437.82053232092"
      ]
     },
     "execution_count": 18,
     "metadata": {},
     "output_type": "execute_result"
    }
   ],
   "source": [
    "prediction = model(X_test, W, b)\n",
    "mse = loss(X_test, W, b, y_test)\n",
    "mse"
   ]
  },
  {
   "cell_type": "code",
   "execution_count": 21,
   "id": "83914ae5",
   "metadata": {},
   "outputs": [
    {
     "data": {
      "image/png": "[encoded data removed]",
      "text/plain": [
       "<Figure size 432x288 with 1 Axes>"
      ]
     },
     "metadata": {
      "needs_background": "light"
     },
     "output_type": "display_data"
    }
   ],
   "source": [
    "plt.scatter(X_test[:, 0], y_test)\n",
    "plt.scatter(X_test[:, 0], prediction)\n",
    "plt.show()"
   ]
  },
  {
   "cell_type": "code",
   "execution_count": 22,
   "id": "8a8ead0d",
   "metadata": {},
   "outputs": [
    {
     "data": {
      "image/png": "[encoded data removed]",
      "text/plain": [
       "<Figure size 432x288 with 1 Axes>"
      ]
     },
     "metadata": {
      "needs_background": "light"
     },
     "output_type": "display_data"
    }
   ],
   "source": [
    "plt.plot(losses)\n",
    "plt.show()"
   ]
  },
  {
   "cell_type": "code",
   "execution_count": null,
   "id": "eb746fe4",
   "metadata": {},
   "outputs": [],
   "source": []
  }
 ],
 "metadata": {
  "kernelspec": {
   "display_name": "Python 3 (ipykernel)",
   "language": "python",
   "name": "python3"
  },
  "language_info": {
   "codemirror_mode": {
    "name": "ipython",
    "version": 3
   },
   "file_extension": ".py",
   "mimetype": "text/x-python",
   "name": "python",
   "nbconvert_exporter": "python",
   "pygments_lexer": "ipython3",
   "version": "3.9.7"
  }
 },
 "nbformat": 4,
 "nbformat_minor": 5
}
